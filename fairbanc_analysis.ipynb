{
 "cells": [
  {
   "cell_type": "code",
   "execution_count": 1,
   "metadata": {},
   "outputs": [],
   "source": [
    "import pandas as pd\n",
    "import numpy as np\n",
    "import matplotlib.pyplot as plt\n",
    "plt.rcParams['figure.figsize'] = (6,5)\n",
    "plt.style.use('ggplot')\n",
    "plt.rcParams['font.size'] = 12"
   ]
  },
  {
   "cell_type": "code",
   "execution_count": 2,
   "metadata": {},
   "outputs": [],
   "source": [
    "pay = pd.read_csv('payments.csv')\n",
    "orders = pd.read_csv('orders.csv')"
   ]
  },
  {
   "cell_type": "code",
   "execution_count": 3,
   "metadata": {},
   "outputs": [
    {
     "data": {
      "text/html": [
       "<div>\n",
       "<style scoped>\n",
       "    .dataframe tbody tr th:only-of-type {\n",
       "        vertical-align: middle;\n",
       "    }\n",
       "\n",
       "    .dataframe tbody tr th {\n",
       "        vertical-align: top;\n",
       "    }\n",
       "\n",
       "    .dataframe thead th {\n",
       "        text-align: right;\n",
       "    }\n",
       "</style>\n",
       "<table border=\"1\" class=\"dataframe\">\n",
       "  <thead>\n",
       "    <tr style=\"text-align: right;\">\n",
       "      <th></th>\n",
       "      <th>Store</th>\n",
       "      <th>Month0</th>\n",
       "      <th>Month1</th>\n",
       "      <th>Month2</th>\n",
       "      <th>Month3</th>\n",
       "      <th>Month4</th>\n",
       "      <th>Month5</th>\n",
       "      <th>Month6</th>\n",
       "      <th>Month7</th>\n",
       "      <th>Month8</th>\n",
       "      <th>Month9</th>\n",
       "      <th>Month10</th>\n",
       "      <th>Month11</th>\n",
       "      <th>Month12</th>\n",
       "    </tr>\n",
       "  </thead>\n",
       "  <tbody>\n",
       "    <tr>\n",
       "      <th>0</th>\n",
       "      <td>1</td>\n",
       "      <td>2023</td>\n",
       "      <td>2084</td>\n",
       "      <td>2056</td>\n",
       "      <td>2220</td>\n",
       "      <td>2265</td>\n",
       "      <td>2332</td>\n",
       "      <td>2216</td>\n",
       "      <td>2194</td>\n",
       "      <td>2303</td>\n",
       "      <td>2142</td>\n",
       "      <td>1928</td>\n",
       "      <td>1774</td>\n",
       "      <td>1614</td>\n",
       "    </tr>\n",
       "    <tr>\n",
       "      <th>1</th>\n",
       "      <td>2</td>\n",
       "      <td>3452</td>\n",
       "      <td>3521</td>\n",
       "      <td>3451</td>\n",
       "      <td>3796</td>\n",
       "      <td>3872</td>\n",
       "      <td>4104</td>\n",
       "      <td>3817</td>\n",
       "      <td>3778</td>\n",
       "      <td>4081</td>\n",
       "      <td>3673</td>\n",
       "      <td>3471</td>\n",
       "      <td>3527</td>\n",
       "      <td>3414</td>\n",
       "    </tr>\n",
       "    <tr>\n",
       "      <th>2</th>\n",
       "      <td>3</td>\n",
       "      <td>2845</td>\n",
       "      <td>2817</td>\n",
       "      <td>2901</td>\n",
       "      <td>3336</td>\n",
       "      <td>2518</td>\n",
       "      <td>2769</td>\n",
       "      <td>1760</td>\n",
       "      <td>1742</td>\n",
       "      <td>1864</td>\n",
       "      <td>1808</td>\n",
       "      <td>1444</td>\n",
       "      <td>1473</td>\n",
       "      <td>1517</td>\n",
       "    </tr>\n",
       "    <tr>\n",
       "      <th>3</th>\n",
       "      <td>4</td>\n",
       "      <td>3133</td>\n",
       "      <td>3196</td>\n",
       "      <td>3153</td>\n",
       "      <td>3279</td>\n",
       "      <td>3344</td>\n",
       "      <td>3612</td>\n",
       "      <td>3431</td>\n",
       "      <td>3397</td>\n",
       "      <td>3845</td>\n",
       "      <td>3394</td>\n",
       "      <td>3564</td>\n",
       "      <td>3635</td>\n",
       "      <td>3744</td>\n",
       "    </tr>\n",
       "    <tr>\n",
       "      <th>4</th>\n",
       "      <td>5</td>\n",
       "      <td>3798</td>\n",
       "      <td>3836</td>\n",
       "      <td>4143</td>\n",
       "      <td>4226</td>\n",
       "      <td>4860</td>\n",
       "      <td>4811</td>\n",
       "      <td>4591</td>\n",
       "      <td>4738</td>\n",
       "      <td>4833</td>\n",
       "      <td>4447</td>\n",
       "      <td>4891</td>\n",
       "      <td>5136</td>\n",
       "      <td>5393</td>\n",
       "    </tr>\n",
       "  </tbody>\n",
       "</table>\n",
       "</div>"
      ],
      "text/plain": [
       "   Store  Month0  Month1  Month2  Month3  Month4  Month5  Month6  Month7  \\\n",
       "0      1    2023    2084    2056    2220    2265    2332    2216    2194   \n",
       "1      2    3452    3521    3451    3796    3872    4104    3817    3778   \n",
       "2      3    2845    2817    2901    3336    2518    2769    1760    1742   \n",
       "3      4    3133    3196    3153    3279    3344    3612    3431    3397   \n",
       "4      5    3798    3836    4143    4226    4860    4811    4591    4738   \n",
       "\n",
       "   Month8  Month9  Month10  Month11  Month12  \n",
       "0    2303    2142     1928     1774     1614  \n",
       "1    4081    3673     3471     3527     3414  \n",
       "2    1864    1808     1444     1473     1517  \n",
       "3    3845    3394     3564     3635     3744  \n",
       "4    4833    4447     4891     5136     5393  "
      ]
     },
     "execution_count": 3,
     "metadata": {},
     "output_type": "execute_result"
    }
   ],
   "source": [
    "pay"
   ]
  },
  {
   "cell_type": "code",
   "execution_count": 4,
   "metadata": {},
   "outputs": [
    {
     "data": {
      "text/html": [
       "<div>\n",
       "<style scoped>\n",
       "    .dataframe tbody tr th:only-of-type {\n",
       "        vertical-align: middle;\n",
       "    }\n",
       "\n",
       "    .dataframe tbody tr th {\n",
       "        vertical-align: top;\n",
       "    }\n",
       "\n",
       "    .dataframe thead th {\n",
       "        text-align: right;\n",
       "    }\n",
       "</style>\n",
       "<table border=\"1\" class=\"dataframe\">\n",
       "  <thead>\n",
       "    <tr style=\"text-align: right;\">\n",
       "      <th></th>\n",
       "      <th>Store</th>\n",
       "      <th>Month0</th>\n",
       "      <th>Month1</th>\n",
       "      <th>Month2</th>\n",
       "      <th>Month3</th>\n",
       "      <th>Month4</th>\n",
       "      <th>Month5</th>\n",
       "      <th>Month6</th>\n",
       "      <th>Month7</th>\n",
       "      <th>Month8</th>\n",
       "      <th>Month9</th>\n",
       "      <th>Month10</th>\n",
       "      <th>Month11</th>\n",
       "      <th>Month12</th>\n",
       "    </tr>\n",
       "  </thead>\n",
       "  <tbody>\n",
       "    <tr>\n",
       "      <th>0</th>\n",
       "      <td>1</td>\n",
       "      <td>2023</td>\n",
       "      <td>2146</td>\n",
       "      <td>2056</td>\n",
       "      <td>2220</td>\n",
       "      <td>2263</td>\n",
       "      <td>2331</td>\n",
       "      <td>2149</td>\n",
       "      <td>2128</td>\n",
       "      <td>2234</td>\n",
       "      <td>2060</td>\n",
       "      <td>1677</td>\n",
       "      <td>1437</td>\n",
       "      <td>1002</td>\n",
       "    </tr>\n",
       "    <tr>\n",
       "      <th>1</th>\n",
       "      <td>2</td>\n",
       "      <td>3452</td>\n",
       "      <td>3169</td>\n",
       "      <td>3209</td>\n",
       "      <td>3302</td>\n",
       "      <td>3794</td>\n",
       "      <td>3652</td>\n",
       "      <td>3435</td>\n",
       "      <td>3287</td>\n",
       "      <td>3958</td>\n",
       "      <td>3305</td>\n",
       "      <td>3008</td>\n",
       "      <td>3296</td>\n",
       "      <td>3381</td>\n",
       "    </tr>\n",
       "    <tr>\n",
       "      <th>2</th>\n",
       "      <td>3</td>\n",
       "      <td>2845</td>\n",
       "      <td>2817</td>\n",
       "      <td>2901</td>\n",
       "      <td>3336</td>\n",
       "      <td>2518</td>\n",
       "      <td>2769</td>\n",
       "      <td>1760</td>\n",
       "      <td>1742</td>\n",
       "      <td>1864</td>\n",
       "      <td>1808</td>\n",
       "      <td>1444</td>\n",
       "      <td>1473</td>\n",
       "      <td>1517</td>\n",
       "    </tr>\n",
       "    <tr>\n",
       "      <th>3</th>\n",
       "      <td>4</td>\n",
       "      <td>3133</td>\n",
       "      <td>3036</td>\n",
       "      <td>2680</td>\n",
       "      <td>3279</td>\n",
       "      <td>3244</td>\n",
       "      <td>3287</td>\n",
       "      <td>3122</td>\n",
       "      <td>3261</td>\n",
       "      <td>3729</td>\n",
       "      <td>2749</td>\n",
       "      <td>2851</td>\n",
       "      <td>2944</td>\n",
       "      <td>3220</td>\n",
       "    </tr>\n",
       "    <tr>\n",
       "      <th>4</th>\n",
       "      <td>5</td>\n",
       "      <td>3798</td>\n",
       "      <td>3798</td>\n",
       "      <td>4060</td>\n",
       "      <td>4014</td>\n",
       "      <td>5103</td>\n",
       "      <td>4474</td>\n",
       "      <td>4499</td>\n",
       "      <td>4596</td>\n",
       "      <td>4494</td>\n",
       "      <td>4714</td>\n",
       "      <td>4745</td>\n",
       "      <td>4931</td>\n",
       "      <td>5501</td>\n",
       "    </tr>\n",
       "  </tbody>\n",
       "</table>\n",
       "</div>"
      ],
      "text/plain": [
       "   Store  Month0  Month1  Month2  Month3  Month4  Month5  Month6  Month7  \\\n",
       "0      1    2023    2146    2056    2220    2263    2331    2149    2128   \n",
       "1      2    3452    3169    3209    3302    3794    3652    3435    3287   \n",
       "2      3    2845    2817    2901    3336    2518    2769    1760    1742   \n",
       "3      4    3133    3036    2680    3279    3244    3287    3122    3261   \n",
       "4      5    3798    3798    4060    4014    5103    4474    4499    4596   \n",
       "\n",
       "   Month8  Month9  Month10  Month11  Month12  \n",
       "0    2234    2060     1677     1437     1002  \n",
       "1    3958    3305     3008     3296     3381  \n",
       "2    1864    1808     1444     1473     1517  \n",
       "3    3729    2749     2851     2944     3220  \n",
       "4    4494    4714     4745     4931     5501  "
      ]
     },
     "execution_count": 4,
     "metadata": {},
     "output_type": "execute_result"
    }
   ],
   "source": [
    "orders"
   ]
  },
  {
   "cell_type": "code",
   "execution_count": 5,
   "metadata": {},
   "outputs": [
    {
     "name": "stdout",
     "output_type": "stream",
     "text": [
      "<class 'pandas.core.frame.DataFrame'>\n",
      "RangeIndex: 5 entries, 0 to 4\n",
      "Data columns (total 14 columns):\n",
      "Store      5 non-null int64\n",
      "Month0     5 non-null int64\n",
      "Month1     5 non-null int64\n",
      "Month2     5 non-null int64\n",
      "Month3     5 non-null int64\n",
      "Month4     5 non-null int64\n",
      "Month5     5 non-null int64\n",
      "Month6     5 non-null int64\n",
      "Month7     5 non-null int64\n",
      "Month8     5 non-null int64\n",
      "Month9     5 non-null int64\n",
      "Month10    5 non-null int64\n",
      "Month11    5 non-null int64\n",
      "Month12    5 non-null int64\n",
      "dtypes: int64(14)\n",
      "memory usage: 688.0 bytes\n"
     ]
    }
   ],
   "source": [
    "pay.info()"
   ]
  },
  {
   "cell_type": "code",
   "execution_count": 6,
   "metadata": {},
   "outputs": [
    {
     "data": {
      "text/plain": [
       "Index(['Month0', 'Month1', 'Month2', 'Month3', 'Month4', 'Month5', 'Month6',\n",
       "       'Month7', 'Month8', 'Month9', 'Month10', 'Month11', 'Month12'],\n",
       "      dtype='object')"
      ]
     },
     "execution_count": 6,
     "metadata": {},
     "output_type": "execute_result"
    }
   ],
   "source": [
    "pay.columns[1:]"
   ]
  },
  {
   "cell_type": "code",
   "execution_count": 7,
   "metadata": {},
   "outputs": [
    {
     "data": {
      "text/plain": [
       "array([2023, 2084, 2056, 2220, 2265, 2332, 2216, 2194, 2303, 2142, 1928,\n",
       "       1774, 1614])"
      ]
     },
     "execution_count": 7,
     "metadata": {},
     "output_type": "execute_result"
    }
   ],
   "source": [
    "pay.loc[0][1:].values"
   ]
  },
  {
   "cell_type": "code",
   "execution_count": 8,
   "metadata": {
    "scrolled": true
   },
   "outputs": [
    {
     "data": {
      "image/png": "[encoded data removed]",
      "text/plain": [
       "<Figure size 432x360 with 1 Axes>"
      ]
     },
     "metadata": {},
     "output_type": "display_data"
    }
   ],
   "source": [
    "plt.scatter(pay.columns[1:]\n",
    "            , pay.loc[0][1:].values\n",
    "            , \n",
    "           )\n",
    "plt.scatter(orders.columns[1:]\n",
    "            , orders.loc[0][1:].values\n",
    "           )\n",
    "plt.xticks(rotation=90)\n",
    "plt.title('Store 1');\n"
   ]
  },
  {
   "cell_type": "code",
   "execution_count": null,
   "metadata": {},
   "outputs": [],
   "source": []
  }
 ],
 "metadata": {
  "kernelspec": {
   "display_name": "Python 3",
   "language": "python",
   "name": "python3"
  },
  "language_info": {
   "codemirror_mode": {
    "name": "ipython",
    "version": 3
   },
   "file_extension": ".py",
   "mimetype": "text/x-python",
   "name": "python",
   "nbconvert_exporter": "python",
   "pygments_lexer": "ipython3",
   "version": "3.7.5"
  }
 },
 "nbformat": 4,
 "nbformat_minor": 4
}
